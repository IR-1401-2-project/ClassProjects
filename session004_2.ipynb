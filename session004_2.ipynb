{
  "cells": [
    {
      "cell_type": "code",
      "execution_count": 1,
      "metadata": {
        "id": "Pm6jLqex3qdW"
      },
      "outputs": [],
      "source": [
        "import nltk\n",
        "import pandas\n",
        "import pickle\n",
        "from re import sub\n",
        "from os import path, mkdir\n",
        "from nltk.corpus import stopwords\n",
        "from nltk.stem import PorterStemmer\n",
        "from nltk.stem import WordNetLemmatizer\n",
        "from nltk.tokenize import word_tokenize"
      ]
    },
    {
      "cell_type": "code",
      "execution_count": 2,
      "metadata": {
        "colab": {
          "base_uri": "https://localhost:8080/"
        },
        "id": "YnKmmYWQ4phw",
        "outputId": "8df3a8bc-8055-40b9-97c1-a67e774b9ec3"
      },
      "outputs": [
        {
          "name": "stderr",
          "output_type": "stream",
          "text": [
            "[nltk_data] Downloading package stopwords to C:\\Users\\SAM-\n",
            "[nltk_data]     Tech\\AppData\\Roaming\\nltk_data...\n",
            "[nltk_data]   Package stopwords is already up-to-date!\n",
            "[nltk_data] Downloading package punkt to C:\\Users\\SAM-\n",
            "[nltk_data]     Tech\\AppData\\Roaming\\nltk_data...\n",
            "[nltk_data]   Package punkt is already up-to-date!\n",
            "[nltk_data] Downloading package wordnet to C:\\Users\\SAM-\n",
            "[nltk_data]     Tech\\AppData\\Roaming\\nltk_data...\n",
            "[nltk_data]   Package wordnet is already up-to-date!\n",
            "[nltk_data] Downloading package omw-1.4 to C:\\Users\\SAM-\n",
            "[nltk_data]     Tech\\AppData\\Roaming\\nltk_data...\n",
            "[nltk_data]   Package omw-1.4 is already up-to-date!\n"
          ]
        },
        {
          "data": {
            "text/plain": [
              "True"
            ]
          },
          "execution_count": 2,
          "metadata": {},
          "output_type": "execute_result"
        }
      ],
      "source": [
        "nltk.download('stopwords')\n",
        "nltk.download('punkt')\n",
        "nltk.download('wordnet')\n",
        "nltk.download('omw-1.4')"
      ]
    },
    {
      "cell_type": "code",
      "execution_count": 3,
      "metadata": {
        "colab": {
          "base_uri": "https://localhost:8080/"
        },
        "id": "F1sjtuPe3SfK",
        "outputId": "b7c9dedd-6103-4dd6-a5df-9c3444d43b25"
      },
      "outputs": [
        {
          "name": "stderr",
          "output_type": "stream",
          "text": [
            "'wget' is not recognized as an internal or external command,\n",
            "operable program or batch file.\n",
            "tar: Error opening archive: Failed to open 'MovieSummaries.tar.gz'\n"
          ]
        }
      ],
      "source": [
        "!wget http://www.cs.cmu.edu/~ark/personas/data/MovieSummaries.tar.gz\n",
        "!tar -xf MovieSummaries.tar.gz"
      ]
    },
    {
      "cell_type": "code",
      "execution_count": 4,
      "metadata": {
        "id": "y7HeBWjT3YlP"
      },
      "outputs": [
        {
          "name": "stdout",
          "output_type": "stream",
          "text": [
            "<class 'pandas.core.frame.DataFrame'>\n",
            "RangeIndex: 42302 entries, 0 to 42301\n",
            "Data columns (total 2 columns):\n",
            " #   Column  Non-Null Count  Dtype \n",
            "---  ------  --------------  ----- \n",
            " 0   id      42302 non-null  object\n",
            " 1   text    42302 non-null  object\n",
            "dtypes: object(2)\n",
            "memory usage: 661.1+ KB\n"
          ]
        }
      ],
      "source": [
        "df_english = pandas.read_csv(\"./MovieSummarise/plot_summaries.txt\",\n",
        "                             delimiter=\"\\t\",\n",
        "                             names=[\"id\", \"text\"])\n",
        "df_english.info()"
      ]
    },
    {
      "cell_type": "code",
      "execution_count": 5,
      "metadata": {
        "id": "S5zF2Nul3bqM"
      },
      "outputs": [
        {
          "data": {
            "text/plain": [
              "0        Shlykov, a hard-working taxi driver and Lyosha...\n",
              "1        The nation of Panem consists of a wealthy Capi...\n",
              "2        Poovalli Induchoodan  is sentenced for six yea...\n",
              "3        The Lemon Drop Kid , a New York City swindler,...\n",
              "4        Seventh-day Adventist Church pastor Michael Ch...\n",
              "                               ...                        \n",
              "42297    The story is about Reema , a young Muslim scho...\n",
              "42298    In 1928 Hollywood, director Leo Andreyev  look...\n",
              "42299    American Luthier focuses on Randy Parsons’ tra...\n",
              "42300    Abdur Rehman Khan , a middle-aged dry fruit se...\n",
              "42301    1940 - Operation Dynamo has just taken place. ...\n",
              "Name: text, Length: 42302, dtype: object"
            ]
          },
          "execution_count": 5,
          "metadata": {},
          "output_type": "execute_result"
        }
      ],
      "source": [
        "df_english[\"text\"]"
      ]
    },
    {
      "cell_type": "code",
      "execution_count": 6,
      "metadata": {
        "id": "BEh6BCtUHFJ8"
      },
      "outputs": [],
      "source": [
        "sentences =df_english[\"text\"][:]\n",
        "sentences = [sub('http://\\S+|https://\\S+', '', sentence) for sentence in sentences]\n",
        "sentences= [sub(r'[^\\w\\s]', '', sentence) for sentence in sentences ]"
      ]
    },
    {
      "cell_type": "markdown",
      "metadata": {
        "id": "-qgJJPnQ6fyT"
      },
      "source": [
        "# NLTK"
      ]
    },
    {
      "cell_type": "code",
      "execution_count": 7,
      "metadata": {
        "id": "fOGufFhMAPqH"
      },
      "outputs": [],
      "source": [
        "#tokenization\n",
        "en_tokenized = [word_tokenize(sentence) for sentence in sentences]"
      ]
    },
    {
      "cell_type": "code",
      "execution_count": 8,
      "metadata": {
        "id": "kJbBvi7c4cGz"
      },
      "outputs": [],
      "source": [
        "#removing stop words\n",
        "stop_words = set(stopwords.words('english'))\n",
        "filtered_sentence=[]*len(en_tokenized)\n",
        "for i in range(len(en_tokenized)):\n",
        "  filtered_sentence.append([])\n",
        "  for word in en_tokenized[i]:\n",
        "    if word.lower() not in stop_words:\n",
        "      filtered_sentence[i].append(word)\n"
      ]
    },
    {
      "cell_type": "code",
      "execution_count": 9,
      "metadata": {
        "id": "NGQLRH3qKXA0"
      },
      "outputs": [],
      "source": [
        "stemmer = PorterStemmer()\n",
        "lemmatizer = WordNetLemmatizer()\n",
        "for i in range(len(filtered_sentence)):\n",
        "    for j in range(len(filtered_sentence[i])):\n",
        "        filtered_sentence[i][j] = stemmer.stem(filtered_sentence[i][j])\n",
        "        filtered_sentence[i][j] = lemmatizer.lemmatize(filtered_sentence[i][j])\n"
      ]
    },
    {
      "cell_type": "code",
      "execution_count": 10,
      "metadata": {
        "id": "tmVh53aL6wux"
      },
      "outputs": [],
      "source": [
        "flat = []\n",
        "for sentence in filtered_sentence:\n",
        "  flat.extend(sentence)"
      ]
    },
    {
      "cell_type": "markdown",
      "metadata": {
        "id": "H5ytmlkX1QQA"
      },
      "source": [
        "# indexing"
      ]
    },
    {
      "cell_type": "code",
      "execution_count": 11,
      "metadata": {
        "id": "p75oIaQwLFKe"
      },
      "outputs": [],
      "source": [
        "def indexer(start,end,name):\n",
        "    posting=dict()\n",
        "    c=0\n",
        "    for i, sentence in enumerate(filtered_sentence[start:end]):\n",
        "        for token in set(sentence):\n",
        "            num = sentence.count(token)\n",
        "            posting.setdefault(token, []).append((i,num))\n",
        "            c+=1\n",
        "    for key,value in posting.items():\n",
        "        posting[key]= sorted(value,key=lambda x:x[1],reverse =True)\n",
        "    f=open(f\"{name}.pickle\",\"wb\")\n",
        "    pickle.dump(obj = posting,file = f)\n",
        "    f.close()\n",
        "    return posting\n"
      ]
    },
    {
      "cell_type": "code",
      "execution_count": 12,
      "metadata": {
        "id": "Y-ivEiOUFScD"
      },
      "outputs": [],
      "source": [
        "length = len(filtered_sentence)\n",
        "posting: dict[str, list[tuple[int, int]]] = indexer(0,length,\"en_indexes\")"
      ]
    },
    {
      "cell_type": "markdown",
      "metadata": {
        "id": "kyh8ePAzvqCj"
      },
      "source": [
        "# Information Retrieval"
      ]
    },
    {
      "cell_type": "code",
      "execution_count": 13,
      "metadata": {
        "id": "Lurj8hqo5nFK"
      },
      "outputs": [],
      "source": [
        "words = sorted(list(set(flat)))"
      ]
    },
    {
      "cell_type": "code",
      "execution_count": 14,
      "metadata": {},
      "outputs": [],
      "source": [
        "sentences_count = len(filtered_sentence)\n",
        "words_count=len(words)\n",
        "PARTS= 70\n",
        "UNIT_SIZE= words_count / PARTS\n"
      ]
    },
    {
      "cell_type": "code",
      "execution_count": 15,
      "metadata": {
        "id": "bcWw-hJQMaGX"
      },
      "outputs": [
        {
          "name": "stdout",
          "output_type": "stream",
          "text": [
            "0. 0 -> 2600\n",
            "1. 26000 -> abow\n",
            "2. abra -> alaya\n",
            "3. alazra -> animalrel\n",
            "4. animalright -> asad\n",
            "5. asada -> bagladi\n",
            "6. bagley -> beedi\n",
            "7. beedinow -> birchal\n",
            "8. birckmay -> bowler\n",
            "9. bowlerhat -> busboyz\n",
            "10. busboyzmdashstev -> castwikit\n",
            "11. castworkallmoviecomaccessdateimdbtbq061110 -> chico\n",
            "12. chico39 -> coaticook\n",
            "13. coatjohn -> costumeoutfit\n",
            "14. costumeref -> dairi\n",
            "15. dairyfarm -> denahi\n",
            "16. denali -> distaff\n",
            "17. distanc -> duisburg\n",
            "18. dujanara -> emmett\n",
            "19. emmi -> expector\n",
            "20. expedi -> fever\n",
            "21. feverdream -> fortyf\n",
            "22. fortyfour -> gangstaz\n",
            "23. gangster -> glumli\n",
            "24. glumlook -> grunbaum\n",
            "25. grunberg -> hant\n",
            "26. hanthawadi -> heureux\n",
            "27. heurtebis -> housekey\n",
            "28. houselat -> incalcublii\n",
            "29. incalcul -> izuchi\n",
            "30. izuhura -> jonestyp\n",
            "31. jong -> kashipur\n",
            "32. kashiram -> kleiner\n",
            "33. kleinercast -> kwast\n",
            "34. kway -> lek\n",
            "35. lekamg -> longrang\n",
            "36. longrehears -> magpaliwanag\n",
            "37. magpi -> marotta\n",
            "38. marou -> meinhof\n",
            "39. meinik -> misandri\n",
            "40. misandrist -> moustakia\n",
            "41. moustapha -> nameblaxploit\n",
            "42. nameblizzard -> newtonian\n",
            "43. newtonjohn -> nung\n",
            "44. nunico -> orléan\n",
            "45. orm -> paradin\n",
            "46. paradis -> pesto\n",
            "47. pesuad -> polkastyl\n",
            "48. poll -> program\n",
            "49. programcard -> radhama\n",
            "50. radhamani -> reembrac\n",
            "51. reemerg -> riyaaz\n",
            "52. riyada -> sabloff\n",
            "53. sabni -> sbt\n",
            "54. sc -> senja\n",
            "55. senji -> shoelacesthi\n",
            "56. shoeless -> slavemast\n",
            "57. slaveown -> spearlik\n",
            "58. spearman -> storholmen\n",
            "59. stori -> survivor\n",
            "60. survivora -> taxiderm\n",
            "61. taxidermi -> throb\n",
            "62. throbe -> tped\n",
            "63. tph -> tyttö\n",
            "64. tyutchev -> urtado\n",
            "65. uruga -> vietnames\n",
            "66. vietnameseamerican -> way\n",
            "67. way5150 -> wolfbiederman\n",
            "68. wolfboy -> yokohama\n",
            "69. yokomotonbsp -> ﬁrst\n"
          ]
        }
      ],
      "source": [
        "\n",
        "#divided by 20:\n",
        "if not path.exists(\"./booleans/\"):\n",
        "    mkdir(\"./booleans/\")\n",
        "for n in range(PARTS):\n",
        "    matrix: list[list[int]] = []\n",
        "    start = int(n * (words_count / PARTS))\n",
        "    end = min(int((n+1) * (words_count / PARTS)),words_count)\n",
        "    print(f\"{n}. {words[start]} -> {words[end-1]}\")\n",
        "    for i, word in enumerate(words[start:end]):\n",
        "        matrix.append([False]*sentences_count)\n",
        "        for index,count in posting[word]:\n",
        "            matrix[i][index]=True\n",
        "    with open(f\"./booleans/boolean{n}.pickle\",\"bw\") as file:\n",
        "        pickle.dump(obj=matrix,file=file)\n"
      ]
    },
    {
      "attachments": {},
      "cell_type": "markdown",
      "metadata": {},
      "source": [
        "boolean"
      ]
    },
    {
      "cell_type": "code",
      "execution_count": 16,
      "metadata": {},
      "outputs": [],
      "source": [
        "def get_binary(s:str) -> list[int]:\n",
        "    filtered_word = stemmer.stem(s.lower())\n",
        "    filtered_word = lemmatizer.lemmatize(filtered_word)\n",
        "    index = words.index(filtered_word)+1\n",
        "    file_number= int(index/UNIT_SIZE)\n",
        "    index= int(index%UNIT_SIZE)    \n",
        "    with open(f\"./booleans/boolean{file_number}.pickle\",\"br\") as file:\n",
        "        matrix= pickle.load(file=file)\n",
        "    return matrix[index]"
      ]
    },
    {
      "cell_type": "code",
      "execution_count": 17,
      "metadata": {},
      "outputs": [],
      "source": [
        "def AandB(a:list[int] , b:list[int]) -> list[int]:\n",
        "    return [a[i] and b[i] for i in range(len(a))]\n"
      ]
    },
    {
      "cell_type": "code",
      "execution_count": 18,
      "metadata": {},
      "outputs": [],
      "source": [
        "def AorB(a:list[int],b:list[int])->list[int]:\n",
        "    return [a[i] or b[i] for i in range(len(a))]\n"
      ]
    },
    {
      "cell_type": "code",
      "execution_count": 19,
      "metadata": {},
      "outputs": [],
      "source": [
        "def notA(a:list[int])->list[int]:\n",
        "    return [not i for i in a]"
      ]
    },
    {
      "cell_type": "code",
      "execution_count": 20,
      "metadata": {},
      "outputs": [],
      "source": [
        "def show(a:list[int])->None:\n",
        "    for i in range(len(a)):\n",
        "        if a[i]:\n",
        "            print(\"id = \",df_english[\"id\"][i], df_english[\"text\"][i])"
      ]
    },
    {
      "cell_type": "code",
      "execution_count": 21,
      "metadata": {},
      "outputs": [],
      "source": [
        "def parseString(string:str)-> list[str]:\n",
        "    tokens=[]\n",
        "    token = \"\"\n",
        "    for char in string.strip():\n",
        "        if char in '(^|!) ':\n",
        "            if len(token):\n",
        "                tokens.append(token)\n",
        "                token=\"\"\n",
        "            if char!=\" \":\n",
        "                tokens.append(char)\n",
        "        else:\n",
        "            token+=char\n",
        "    tokens.append(token)\n",
        "    return tokens "
      ]
    },
    {
      "cell_type": "code",
      "execution_count": 22,
      "metadata": {},
      "outputs": [],
      "source": [
        "def convert_to_binary(tokens:list[str])-> list[str|list[int]]:\n",
        "    res = []\n",
        "    for token in tokens:\n",
        "        if token in \"!(^)|\":\n",
        "            res.append(token)\n",
        "        else:\n",
        "            print(f\"Finding the vector of {token}.\")\n",
        "            res.append(get_binary(token))\n",
        "    return res"
      ]
    },
    {
      "cell_type": "code",
      "execution_count": 23,
      "metadata": {},
      "outputs": [],
      "source": [
        "def process(tokens:list)->list[int]:\n",
        "    temp = tokens.copy()\n",
        "    index =0\n",
        "    while index<len(temp):\n",
        "        if temp[index] ==\"(\":\n",
        "            close_par_index=index+1\n",
        "            inner_pars=0\n",
        "            while close_par_index<len(temp):\n",
        "                if temp[close_par_index]==\"(\":\n",
        "                    inner_pars += 1\n",
        "                elif temp[close_par_index]==\")\":\n",
        "                    if inner_pars==0:\n",
        "                        break\n",
        "                    inner_pars -= 1\n",
        "                close_par_index +=1\n",
        "            answer = process(temp[index+1:close_par_index])\n",
        "            del temp[index:close_par_index + 1]\n",
        "            temp.insert(index,answer)\n",
        "        index+=1\n",
        "    index=0\n",
        "    while index<len(temp):\n",
        "        if temp[index] == \"!\":\n",
        "            answer = notA(temp[index + 1])\n",
        "            del temp[index:index + 2]\n",
        "            temp.insert(index, answer)\n",
        "        index+=1\n",
        "    index =0\n",
        "    while index<len(temp):\n",
        "        if temp[index] == \"^\":\n",
        "            answer = AandB(temp[index - 1], temp[index + 1])\n",
        "            del temp[index - 1:index + 2]\n",
        "            temp.insert(index - 1, answer)\n",
        "            index -=1\n",
        "        elif temp[index] == \"|\":\n",
        "            answer = AorB(temp[index - 1], temp[index + 1])\n",
        "            del temp[index - 1:index + 2]\n",
        "            temp.insert(index - 1, answer)\n",
        "            index -= 1\n",
        "        index+=1\n",
        "    return temp[0]\n"
      ]
    },
    {
      "cell_type": "code",
      "execution_count": 24,
      "metadata": {},
      "outputs": [],
      "source": [
        "def find():\n",
        "    query = input(\"enter your search string: \")\n",
        "    if query:\n",
        "        print(\"Parsing your input...\")\n",
        "        tokens = parseString(query)\n",
        "        print(\"Convert words to its vectors...\")\n",
        "        binaries = convert_to_binary(tokens)\n",
        "        print(\"Searching for the results...\")\n",
        "        answer = process(binaries)\n",
        "        print(\"Your descriptions are here:\")\n",
        "        show(answer)"
      ]
    },
    {
      "cell_type": "code",
      "execution_count": 25,
      "metadata": {},
      "outputs": [
        {
          "name": "stdout",
          "output_type": "stream",
          "text": [
            "Parsing your input...\n",
            "Convert words to its vectors...\n",
            "Finding the vector of first.\n",
            "Finding the vector of black.\n",
            "Finding the vector of jigsaw.\n",
            "Finding the vector of conquerors.\n",
            "Finding the vector of buddha.\n",
            "Searching for the results...\n",
            "Your descriptions are here:\n",
            "id =  8471210 In 1942, a 10 year old boy named Timmy plays with a jigsaw puzzle of a nude woman when his mother walks in. She chastises him for it. The mother orders Timmy to get a plastic bag because \"I'm gonna burn everything.\" Timmy gruesomely murders her with an axe instead of getting the plastic bag. The police later arrive at the house and Timmy is finishing the puzzle. The police break into the house through the front door. Timmy then hides in one of the closets. The police then enter into the bedroom, they find a bloody mess all over the room and also find the mother's head inside one of the closets. The police hear Timmy weeping in the another closet, so they open the door and find him covered in blood. The police question the whereabouts of the father; the nanny replies hesitantly and lying obviously that he is in Europe with the Air Force, but the nanny also says that Timmy has an aunt, who lives an hour away and also the nanny says that she will call Timmy's aunt and that the nanny will take Timmy there. Forty years later, in 1982, a grown up Timmy is seen, wearing black gloves, opens a drawer. He removes a box and opens it. Inside, he finds his mother's shoes, her dress, soaked in blood, and a photo of her, crossed out in red. The next scene cuts to a girl skateboarding through town. While this happens, a van, , stops by, and later, the 2 men, are seen carrying out, what looks like a giant mirror frame, from the back of the van. Of course, the girl on the skateboard, ends up crashing into a giant mirror frame, which shatters to pieces. Back at the killer's house, he removes another box, containing pieces of the puzzle of the nude woman, which he starts putting together. Then, the chainsaw-wielding psychopathic killer is on the loose on a college campus in Boston.BD Horror News: DVD Review \"Pieces\" by David Harley Tormented by childhood memories, the killer tries to create his own jigsaw puzzle made from real human body parts. Along with police lieutenant Bracken  and college student Kendall , Mary Riggs  poses as a tennis instructor in order to try to uncover the identity of the maniac.Motion Picture Purgatory: Pieces Many girls fall victim to the psychotic killer: the first girl is decapitated with a chainsaw while sunbathing; the second is nearly drowned in a swimming pool, only to be pulled out of the pool and sawn in pieces with a chainsaw; the third has one of her arms sawn off by the killer while in an elevator and she dies from massive loss; the fourth is stabbed to death in the chest with a knife, while on a waterbed, and stabbed through the back of her neck; the last girl to be killed becomes trapped in the girls' locker room, who has her body sawn in half while hiding inside a bathroom stall from the killer, leaving behind her upper body. In the end, it turns out the college Dean is the killer. He tries to kill Mary but Lt. Bracken, Sgt. Holden and Kendall are able to save her by shooting him in the head. The corpse, consisting of body parts from multiple victims, falls out of the Dean's cabinet and terrifies Kendall. The film ends with Kendall preparing to leave when the corpse inexplicably comes back to life and rips off his testicles while Kendall screams, implying that the Dean is still alive.\n",
            "id =  255858 The film opens with a fantasy sequence in which Johnny English , an inept British Intelligence agent, is \"Agent One\". He sneaks into a building, distracts two guard dogs with toys, knocks out two guards and seduces a woman who threatens him. He is awoken from his fantasy just as he is about to kiss the woman by his sidekick, Angus Bough . After being assured that English has checked the submarine hatch codes personally, the real Agent One  leaves on a mission. The audience then learn that Agent One died in action when his submarine hatch \"failed to open\". A bomb then wipes out Britain's remaining agents, all of whom were attending the funeral of Agent One, leaving only English. Nobody notices the hearse, which sped from the scene minutes earlier. Before his death, Agent One was investigating a plot to steal the Crown Jewels. Together with Bough, English takes over the case. Whilst investigating, English becomes attracted to a mysterious woman, Lorna Campbell , whom he meets at the unveiling of the newly restored Crown Jewels, where English is in charge of the security. The power to the room is cut, and English accidentally knocks out the chief of security, before pretending to fight a criminal in another room in an attempt to cover up this fact. Later, Bough and English follow a tunnel and find the Jewels, but fail to stop the thieves after English accidentally ejects the magazine from his pistol. English chases their car, a hearse, but accidentally trails the wrong one after being stopped by a red light and went the wrong way. Convinced the burial party he discovers is an act, he arrests the mourners and the priest before realizing his mistake. Bough rescues him by pretending that English is an escaped asylum inmate. The pair then uncovers the mastermind of the theft, French prison entrepreneur and descendant of William the Conqueror, Pascal Sauvage . English reports his suspicions to the head of MI7, Pegasus , who does not believe him. In the car park, one of Sauvage's henchmen attacks English and Bough, and escapes when English mistakenly attacks Bough. English and Bough infiltrate Sauvage's headquarters via parachute, but English lands on the wrong building, abseiling the identical London Hospital. He holds several staff and patients at gunpoint, before realizing his mistake. English activates a DVD player, exposing Sauvage's plan to instate himself as King, using an impostor, Archbishop of Canterbury . After English accidentally injects himself with muscle relaxant, he and Bough are rescued by Lorna from two of Sauvage's men. She turns out to be an Interpol agent, also on Sauvage's tail . Along with Bough, they gatecrash a party held by Sauvage. The muscle relaxant not yet worn off, English accidentally insults the Foreign Secretary . One of the henchmen reports English to Sauvage, a friend of English's unwitting boss, the latter of whom dismisses Bough and English. Sauvage decides that English knows too much and sends henchmen to force the Queen to sign a letter of abdication, as she does so for her precious pet dog. Sauvage is informed by British officials that, as the closest surviving relative of the Queen, the position of monarch now belongs to him. Lorna visits English at his flat, as his mission was reassigned to her, and persuades English to join her. They travel to France, infiltrate Sauvage's chateau, and overhear his proposal to turn the United Kingdom into a giant prison. However, English accidentally triggers a microphone, alerting Sauvage to their presence and in an attempt to steal an incriminating DVD, English accidentally drops it onto a tray full of identical discs, and takes the wrong one. Taken hostage, they are freed by Bough and return to England on the day of the coronation. At Sauvage's coronation, English sneaks in with Lorna, the former disguised as the English bishop in front of Sauvage. He publicly accuses Sauvage of treason, and unaware that the fake Archbishop is no longer being used, English attempts to pull off his face, believing it to be a mask and then pulls down his trousers to look for a tattoo that says \"Jesus is coming, look busy\". English then radios to Bough to tell him to play the DVD they retrieved. Bough does so, resulting in three-quarters of the world's population watching English, in a shower cap and underpants, dancing and miming along to \"Does Your Mother Know\" by ABBA. English escapes, but comes back, swinging from a wire above Sauvage and the Archbishop, grabbing the crown before it touches Sauvage's head. Sauvage reveals his true intentions to London by pulling a gun and shooting at English, telling London that it will stand in line and do what he's told no matter what, including letting him turn the country into a prison. In the following struggle, English is inadvertently crowned instead. He places Sauvage under arrest, reveals his plot to the Queen and allows her to return to the throne, in return for a knighthood. The film ends with English driving Lorna to the top of a mountain where Johnny accidentally presses the eject button whilst about to kiss her, and Lorna shoots into the sky. There is also a short scene in the credits showing Lorna landing in a swimming pool where Bough is sitting and as the orange haired criminal described earlier by English lowers his newspaper.\n",
            "id =  5866831 An attack on the sacred city of Alamut is planned by Dastan , an orphan in the Persian Empire adopted by King Sharaman ; his royal-blooded adoptive brothers, Tus  and Garsiv ; and his uncle, Nizam , after Alamut is believed to be selling weapons to Persia's enemies. Dastan leads a surprise attack to open the city's gates to allow the army in; during the ensuing battle, Dastan comes into possession of a unique dagger. Alamut's princess, Tamina , is arrested and agrees to marry Tus in order to achieve peace after noticing Dastan's dagger. Dastan unknowingly presents a poisoned robe, given to him by Tus, to his father, who dies upon donning it. After being blamed for the murder, Dastan flees Alamut with Tamina. When Tamina attempts to kill the prince, Dastan discovers the dagger can reverse time and only the one who activates it is aware of what happened. After an encounter with shady ostrich racing-organizer Sheik and his men, Dastan and Tamina head to Avrat for Sharaman's funeral. Dastan attempts to convince Nizam that he did not kill his father but Garsiv and the city guards appear and attack Dastan and he is forced to escape. Dastan catches up with Tamina and explains that Nizam was behind the murder because his hands were burned. Once Tamina finally explains everything about the Dagger, Dastan realizes why Nizam wants the Dagger of Time: to use it with the massive Sandglass to go back in time and undo saving Sharaman from a lion so he could become king. He fabricated the false allegations that Alamut had been dealing weapons to Persia's enemies so that he would have the opportunity to search the city for the Sandglass. However, Tamina warns that opening the Sandglass would release the sands, triggering an apocalyptic sandstorm that would destroy the entire world. Meanwhile, Nizam hires the lethal Hassansins to slay Dastan. Dastan and Tamina are again captured by Sheik Amar , seeking to rebuild his ruined business by turning them in for bounty. But that night, the Hassansin leader, Zolm  attacks the group with vipers, which are killed by Dastan with the dagger. Amar decides to go along with Dastan and Tamina to a secret sanctuary near India. They run into Garsiv's men. Dastan manages to persuade his brother that he is innocent, only for Garsiv to be fatally wounded by a Hassansin. The Hassansins attack, while Dastan and Tamina sneak away to the secret cave where they can hide the Dagger. After Dastan prevents Tamina from giving up her life to protect the Dagger, they are found and Zolm manages to snatch the Dagger of Time from Tamina. Garsiv saves Dastan from a Hassansin just before he dies. The group returns to Alamut to reveal the truth about Nizam and the Dagger to Tus. Seso  manages to take back the Dagger after a battle with Setam, the Hassansin who killed Garsiv, that ends up killing both men. Dastan confronts Tus and explains the dagger's mechanics to him and then stabs the dagger into his heart, killing himself. Tus brings Dastan back to life by rewinding time and realizes his brother has been innocent all along. But Nizam arrives, kills Tus, and takes the Dagger, leaving a Hassansin, Ghazab, to kill Dastan. Tamina arrives to help Dastan defeat Ghazab as Nizam goes to the Sandglass caves beneath Alamut. Dastan and Tamina go behind, and on the way Tamina kills Zolm with the Hassansin's own snake, while preventing him from killing Dastan. The pair share a kiss. They reach Nizam before he can pierce the Sandglass with the Dagger, but he knocks Tamina and Dastan over the edge. Dastan grabs hold of Tamina. Admitting that she loves him, Tamina asks Dastan to stop Nizam, saying it's been his destiny all along. She lets go of his hand, leaving Dastan devastated. Dastan pulls himself up just as Nizam stabs the Sandglass with the Dagger. Dastan grabs hold and activates the dagger. This causes Dastan to go back to the immediate aftermath of the invasion of Alamut. Dastan reveals Nizam's treachery. Nizam, realizing the allegation will be confirmed by an investigation ordered by Tus, attacks Dastan, but is eventually stabbed in the chest by Tus's blade and dies. After apologizing for the ransacking of her city, Tus suggests that perhaps Tamina should become Dastan's wife as a sign of good will since he is the \"conqueror and savior of her city\". Prince Dastan returns the Dagger of Time to Tamina and the two take a walk together. During their conversation, Dastan hints at his knowledge of the dagger's power and tells Tamina that he looks forward to a future with her.\n",
            "id =  22677923 The German conquerors are above nothing, not even the slaughter of small children, Eventually, the villagers rise up against their oppressors-but unexpectedly do not wipe them out, electing instead to force the surviving Nazis to stand trial for their atrocities in a postwar \"people's court.\" .http://www.allmovie.com/work/raduga-107206\n",
            "id =  12836791 The film opens with a parody of the Simon Bates intro that used to accompany VHS rentals where Bates would explain to the viewer what certificate the film had received - 18 apparently - and what adult content they could expect to see. The story begins with a serial killer bumping off the residents of a small Somerset community. Maverick DI Barry Stern is assigned to the case and - despite his reluctance - is partnered with by-the-book fellow DI Mike Tight. On their first time out together Barry shoots a dealer trying to sell him cocaine in a public toilet. Meanwhile the killer stalks a woman home from the supermarket and kills her by electrocution with a kitchen light. Mike and Barry show up at the scene of the crime and discover the woman bludgeoned to death. A box of cereal has been left on her head leading Barry to summise that they are now looking for a cereal killer. Back at the precinct Mike addresses his fellow inspectors. He tells them that in order to catch the killer they must look at and obey the formula that most cop movies go by even though it is a British movie and there won't be any car chases. Barry points out that the partner usually dies in these kind of movies but Mike says he is thinking more along the lines of the Lethal Weapon films. The following day the police stakeout the local supermarket where they expect the killer to strike next. Barry is disguised as a mime. Mike is disguised an old lady in order to ensnare the killer. A small boy asks Barry for a mime. Barry gives him the finger that leads to him getting beaten up by the boy's elder brother.  Meanwhile Mike proceeds to the local park followed by the killer. Once there he realizes he is being followed and radios for help but it's too late. The killer attacks Mike and stabs him. Barry arrives on bike to find Mike dying. Mike says he loves Barry and gets him to give him a final kiss. Before he dies he tells him to look in the script to see where the killer is hiding out. Barry arrives at a creepy looking house. There he is captured by the killer and tied to a chair. Barry says he knows who he is and proceeds to tell him his back-story: The killer is Philip Quinn. As a child he was made to eat cereal every day. He couldn't do it and in later years developed an inferiority complex about it. He then murdered his parents with a Black and Decker jigsaw and inherited their estate. He surrounded himself with waifs-and-strays that, like him, were hooked on cereal and slowly built up an army of hockey stick carrying box-men. He got a job at the local supermarket to satisfy his desire for cereal but he couldn't stand it when people would buy it for themselves and so he would follow them home and murder them. Philip leaves Barry under the watchful eye of his beautiful sister Antonia. She seduces him and ten seconds later they are lying in bed together post-coitus. Barry handcuffs her to the chair and makes his escape. Outside Barry encounters one of the box-men. He manages to defeat him by jumping on his face, which blows up. Meanwhile Antonia sounds the alarm which summons a whole army of box-men. They chase him into a room that turns out to be an armoury. He tools-up and proceeds outside to face his adversaries. A gun battle ensues during which Barry discovers that one of the box-men is MI5 undercover agent Nigel Roscoe. The pair join forces to fend off the box-men. After a lengthy action sequence they manage to slaughter the army leading to much splatter and carnage. However by this point Antonia has escaped and she hurls a knife into Nigel's back killing him. Barry shoots Antonia in the head. Back at the supermarket Philip is working. Barry turns up to catch him but DI Jackson is waiting there to take Barry in. Barry subdues Philip but when Jackson interferes Barry lets Philip go in order to recapture him elsewhere. He tells Jackson not to follow him and lays chase. In the local park Philip takes Edgar the director hostage and kills him. Barry breaks character, grabs a passing extra and gets her to direct the rest of the film. Barry corners Philip in a playground. The pair have a showdown where they fight it out one-on-one. The fight culminates with Barry shooting Philip in the chest but only after reciting the \"do you feel lucky\" speech from Dirty Harry. Philip begs for mercy and says he wants to be Barry's best friend. Barry shoots him in the head. As the police show up to clear up the mess Barry has created he sits forlornly on a park bench. Disillusioned with the police he throws his badge away before riffling through his pockets and pulling out a pin, a police radio and a grenade. Realizing too late that the pin was from the grenade it goes off.\n",
            "id =  2617126 Marcus is a quiet young boy who adores his loving mother , and the two live a relatively comfortable life as his mother is a local drug dealer. She often has to leave him with his grandparents to be looked after while she takes care of her business. But after she is brutally murdered in an apparent drug deal gone wrong, Marcus heads down the wrong road himself. Forced to live with his grandparents full-time, they themselves having many children too, he finds his life less appealing as his grandfather works long hours to support the large family. As he grows older, he enters the drug game himself, buying new clothing and even a gun. Eventually he abandons high school to sell drugs for local kingpin Levar  and his underling, Majestic,  full time. Majestic, however, has plans of his own to become a major drug lord himself. Years later, after he reunites with his childhood sweetheart , he is thrown in jail. During his time in prison, he befriends a fellow inmate named Bama . Marcus decides to leave the drug trade behind in order to pursue and eventually fulfill his lifelong dream of becoming a rap-star and entertainer, calling himself Young Caesar, after the Roman conqueror himself, with Bama as his manager and producer. Unfortunately, he and his drug crew end up robbing a local shop, and Majestic doesn't want to let him go, resulting in a tragedy that might have destroyed his life forever. Marcus is gunned down outside of his family's home, leading him to rethink his life and put his priorities in order, including that of his young child. Marcus begins preparations to go on stage and begin his walk of becoming a top-notch and real entertainer, donning a bulletproof vest for his protection from his enemies. In the moments before the show, he gains the ire of Majestic, who comes to him with a revelation that he was the one who murdered his mother years earlier. A fight ensues and leaves Marcus the victor and, finally at peace with his inner demons, leaves Majestic at the hands of his cronies. As he walks out towards the crowd he stops as he hears a lone gunshot in the room behind him, implying Majestic is now dead, which is confirmed as the film cuts to Bama shooting up Majestic's corpse. As Marcus steps onto the stage to perform for the waiting crowd, he removes the bulletproof vest he had on, showing he was no longer afraid to be who he was meant to be.\n",
            "id =  99454 The film's famous beginning has General George S. Patton  giving a speech to an unseen audience of American troops , with a huge American flag in the background. The scene then shifts to North Africa at the start of 1943, where Patton takes charge of the demoralized American II Corps in North Africa after the humiliating defeat at the Battle of the Kasserine Pass. After instilling discipline in his soldiers, he leads them to victory at the Battle of El Guettar, though he is bitterly disappointed to learn afterward that Erwin Rommel , whom he respects greatly as a general, was not his opponent. Patton's aide, Captain Jensen, is killed in the battle and replaced by Lieutenant Colonel Codman who assures Patton that, though Rommel was absent, that if Patton defeated Rommel's plan, then he defeated Rommel. Patton is shown to believe in reincarnation, while remaining a devout Christian. At one point during the North Africa campaign, he takes his staff on an unexpected detour to the site of the ancient Battle of Zama. There he reminisces about the battle, insisting to his second in command, General Omar Bradley  that he was there. After North Africa is secured, Patton is involved in the Allied invasion of Sicily. His proposal to land his Seventh Army in the northwest of the island is rejected in favor of the more cautious plan of British General Bernard Law Montgomery, in which the British and American armies are to land side-by-side in the southeast. Frustrated at the slow progress of the campaign, Patton defies orders, racing northwest to capture the city of Palermo and then narrowly beats Montgomery in a race to capture the port of Messina in the northeast. However, Patton's aggression is regarded with increasing disquiet by his subordinates Bradley and Truscott, and he is eventually relieved of command for slapping and attempting to shoot a shell-shocked soldier, whom he accuses of cowardice, in an Army hospital. For this incident and for his tendency to speak his mind to the press, he is sidelined during the long-anticipated D-Day landings, being placed in command of the fictional First United States Army Group in southeast England as a decoy. German General Alfred Jodl  is convinced that Patton will lead the invasion of Europe. Fearing he will miss out on his destiny, he begs his former subordinate, General Omar Bradley, for a command before the war ends. He is given the Third Army and distinguishes himself by rapidly sweeping across France until his tanks are halted by lack of fuel. He later relieves the vital town of Bastogne during the Battle of the Bulge. He then smashes through the Siegfried Line and drives into Germany itself. Patton has previously remarked to a British crowd that the United States and Great Britain would dominate the post-war world, which is viewed as a slight to the Russians. After the Germans capitulate, he insults a Russian officer at a celebration; fortunately, the Russian insults Patton right back, defusing the situation. Patton then makes an offhand remark comparing the Nazi Party to the political parties in the U.S. In the end, Patton's outspokenness loses him his command once again, though he is kept on to see to the rebuilding of Germany. The film ends with Patton walking his dog, a bull terrier named Willie, and Scott relating in a voice over that a returning hero of ancient Rome was honored with a victory parade in which \"a slave stood behind the conqueror holding a golden crown and whispering in his ear a warning: that all glory is fleeting.\"\n",
            "id =  1144915 After having left their own world due to a loss of natural resources, the winged humanoid Nohrin settle on Jhamora with the permission of the ground-dwelling Lokni. But some of the Nohrin, led by would-be conqueror Sedessa , believe in the superiority of their own race and try to take land away form the Lokni. The parents of Delgo , a Lokni, are killed in the resulting conflict. Nohrin King Zahn  is horrified by the war and admonishes Sedessa, who then poisons the Queen and almost kills Zahn as well. She is subsequently banished, and her wings are clipped off. Delgo, meanwhile, is raised by Elder Marley , who tries to teach him how to use the power of magical stones. Once Delgo grows up, however, he gives in to his desire for revenge against the Nohrin as a whole. But then he meets Princess Kyla  of the Nohrin and develops a tentative friendship with her. When she is kidnapped by Nohrin General Raius , who is actually working for Sedessa, Delgo and his friend Filo  are blamed and arrested. In the Nohrin prison, Delgo meets Nohrin General Bogardus , who was forced to illegally gamble with his weapons by Raius, because Bogardus opposed an all out war with the Lokni. Delgo, Filo, and Bogardus escape into some underground caverns and eventually reach Sedessa's stronghold and rescue Kyla. Together they hurry back to try to stop the war from taking place. They are too late, for the war has already begun. Bogardus meanwhile fights and defeats Raius, but is soon after mortally injured. Just as Bogardus dies, Delgo realizes that he was the Nohrin soldier who spared his life many years ago during the first war between the Nohrin and the Lokni. Meanwhile, Sedessa's army of monsters join in the battle. Kyla convinces the Nohrin generals to direct their troops to stop fighting the Lokni and instead pick them up and fly them away from the battlefield. Filo then directs an entire stampede of large animals onto the battlefield, sending Sedessa's minions fleeing for their lives. Delgo goes off to face Sedessa and find King Zahn, whom she has taken prisoner. He finally manages to master the stone magic, and defeats Sedessa. He also puts the past behind him by saving her rather than letting her fall to her death. However, Sedessa then attacks Kyla, who has come to Delgo's aid. The two struggle and Sedessa finally falls, her artificial wings being of no use. Later, during the celebrations, it turns out Raius wasn't dead, and he makes one last attempt to end Delgo. He is subdued by a Nohrin, but not before he throws his spear at Delgo. Then, out of nowhere, the spear breaks in mid-air. Everyone turns to look at Filo, who has finally mastered his slingshot. Later, Delgo and Kyla's friendship blossoms into romance when they finally kiss.\n",
            "id =  16901157 On November 8, 1519 the Spanish Conqueror Hernando Cortés and his small army rode into the Aztec capital of the vast Aztec Empire, where they were welcomed by the Emperor Moctezuma. Within two years, the Aztec civilization was in a state of orphanage, the survivors having lost their families, homes, language, temples... and Gods The Other Conquest opens in May 1520 when Topiltzin , a skillful Aztec scribe who is one of Moctezuma's illegitimate sons, survives the Massacre of the Great Temple by hiding under a corpse. After the Spaniards leave the sacred site, he finds his people dead, including his mother. By 1526 Topiltzin is still striving to preserve the cult of Tonantzin, based upon the Aztec Mother Goddess. When a squadron commanded by Captain Cristóbal  and Friar Diego  discover the clandestine human sacrifice of a beautiful Aztec princess, two incompatible ways of life come face to face... and violence erupts. Topiltzin manages to escape by making Friar Diego believe he is drawn to the statue of the Virgin Mary that accompanies the Spaniards wherever they go. He is eventually captured and presented to Hernando Cortés , who has just returned from an ill-fated campaign to Las Hibueras . In an attempt to create a hybrid empire, Cortés has taken Emperor Moctezuma's daughter and heiress, the notorious Tecuichpo , as his new mistress and interpreter. She reveals that Topiltzin is her half-brother, and a skeptical Cortés spares the young man's life, but in turn decides to convert him to the new Spanish ways with the aid of Tecuichpo  and Friar Diego. After being subject to a brutal ritual of conversion, Topiltzin  is confined in the Franciscan Monastery of Our Lady of Light. Five years later , under the tutelage of Friar Diego, Tomás is struggling to reconcile two worlds which could hardly be more different but which also share some basic truths. However, Friar Diego realizes that Tomás and Doña Isabel are forging Cortés's correspondence with Charles V, King of Spain. Things become even worse when Friar Diego discovers them making love inside the monastery, in a desperate attempt to perpetuate their race. Friar Diego takes it upon himself to save Tomás's soul, and asks Cortés to keep Doña Isabel from returning to the monastery. A pregnant Doña Isabel is secluded in a dungeon. The overwhelming absence of his half-sister erodes what is left of Tomás's world. He falls into a state of desolation and illness. A well-meaning Indian nun  applies medieval remedies to him, but these only help turn his feverish attacks into hallucinations that merge Christian and Aztec imagery. Tomás has a vision whereby the Virgin Mary is revealed as the Aztec Mother Goddess. The arrival of the statue of the Virgin Mary in the monastery, a token of gratitude from Cortés to Friar Diego, now causes Tomás to become genuinely drawn to the statue as a substitute for all he has lost, and he sets on a personal crusade to conquer her. If he absorbs her powers, if he fuses with her, redemption will follow. Is the Indian's conversion real? Or is Tomás trying to retain his own beliefs under the guise of the new creed? Will he be able to survive with his sanity intact? These questions start revolving in Friar Diego's head, and although he puts many obstacles to keep Tomás from entering the sacristy and consummating his obsession with the statue, he finally allows Providence to decide whether Tomás's mission is legitimate or not. So who is in fact converting whom? Maybe the greatest mystery in the history of beliefs is how certain unorthodox encounters make us continue believing...\n",
            "id =  7837396 The film's action takes place during the late 12th century, about 100 years after the 1066 Norman Conquest of England. The conquest largely removed the native  ruling class, replacing it with a foreign, French-speaking monarchy, aristocracy, and clerical hierarchy. The story line monitors the transformation of Thomas Becket, portrayed, following the play, as a Saxon protégé and facilitator to the carousing King Henry, into a man who continually invokes the \"honor of God\". Henry appoints Becket as Archbishop of Canterbury in order to have a close confidant in this position that he could completely control. Instead, Becket becomes a major thorn in his side in a jurisdictional dispute. Much of the plot concerns Henry, the \"perennial adolescent\" as described by the Bishop of London, who finds his duties as king and his stale arranged marriage to be oppressive. Early in the film, we see him escaping them through drunken forays onto the hunting grounds and local brothels. He is increasingly dependent on Becket, a Saxon commoner, who arranges these debaucheries when he is not busy running Henry's court. This foments great resentment on the part of Henry's Norman noblemen, who distrust and envy this Saxon upstart, as well as the queen and queen mother, who see Becket as an unnatural and unseemly influence upon the royal personage. Henry finds himself in continuous conflict with the elderly Archbishop of Canterbury, who opposes the taxation of Church property in order to support Henry's military campaigns in France . During one of his campaigns in coastal France, he receives word that the old bishop has \"gone to God's bosom\". In a burst of inspiration, Henry exercises his prerogative to pick the next Archbishop and informs an astonished Becket that he is the royal choice. Shortly thereafter, Becket sides with the Church, throwing Henry into a fury. One of the main bones of contention is Thomas' excommunication of Lord Gilbert, one of Henry's most loyal stalwarts, for seizing and ordering the killing of a priest who had been accused of sexual indiscretions with a young girl, before the priest can even be handed over for ecclesiastical trial. Gilbert then refuses to acknowledge his transgressions and seek absolution. The King has a dramatic secret meeting with the Bishop of London in his cathedral . He lays out his plan to remove the troublesome cleric through scandal and innuendo which the position-conscious Bishop of London quickly agrees to . These attempts fall flat when Becket, in full ecclesiastic garb, confronts his accusers outside the rectory and routs them causing Henry to laugh and bitterly note the irony of it all, \"Becket is the only intelligent man in my entire kingdom...and he is against me!\" Becket escapes to France where he encounters the conniving yet sympathetic King Louis . King Louis sees in Becket a means by which he can further his favorite pastime, tormenting the arrogant English. Becket gets to Rome, where he begs the Holy Pontiff to allow him to renounce his position and retire to a monastery as an ordinary priest. The Vatican is a hotbed of intrigue and political jockeying. The Pope reminds Becket that he has an obligation as a matter of principle to return to England and take a stand against civil interference in Church matters. Becket yields to this decision and asks Louis to arrange a meeting with Henry on the beaches at Normandy. Henry asks Becket whether or not he loved him and Becket replied that he loved Henry to the best of his ability. A shaky truce is declared and Becket is allowed to return to England. The remainder of the film shows Henry rapidly sinking into drunken fixation over Becket and his perceived betrayal. The barons worsen his mood by pointing out that Becket has become a folk hero among the vanquished Saxons who are ever restive and resentful of their Norman conquerors. There are comical fights between Henry and his frumpy consort, Eleanor of Aquitaine, his dimwitted son/heir apparent, and his cold-blooded mother, who repeatedly reminds her son that his father would have quickly had someone like Becket done away with for the sake of the realm. During one of his drunken rages he asks \"Will no one rid me of this meddlesome priest?\" His faithful barons hear this and proceed quickly to Canterbury, where they put Thomas and his Saxon deputy, Brother John, to the sword. A badly shaken Henry then undergoes a penance by whipping at the hands of Saxon monks. The film concludes with Henry, fresh from his whipping, publicly proclaiming Thomas Becket a saint and that the ones who had killed him will be justly punished.\n",
            "id =  3223514 Two Evil Alien Conquerors are sent to Earth with the order to behead all humans within 48 hours. If they fail, they will be destroyed by Croker, a 100ft tall giant. Kenny  witnesses the Evil Alien Conquerors, My-ik  and Du-ug , as they arrive on Earth, literally falling out of the sky with their beheading swords. He offers them shelter at his home, which he shares with Ron, an unpleasant, oversexed infomercial producer. The conquering duo have a chance to experience Earth culture, where they become friends with Kenny, develop a fondness for Schmirnoff Ice and unexpectedly fall in love with two local women, who have a secret of their own. They begin to doubt what they were sent to do, but know they still must attempt to complete their impossible mission despite their lack of skill, any plan or experience. The giant Croker then arrives to destroy the two inept conquerors and the rest of the Earth's population, but he shrinks down to normal size during transportation. Delusional enough to still believe he is a giant, he attempts to wreak havoc on the town, obviously without success.\n",
            "id =  3189853  The story concerns 13th-century Saxon nobleman Walter of Gurnie , who, after sparking an unsuccessful rebellion against the Norman conquerors of his homeland, sets out to seek his fortune in the Far East. In the company of his friend Tristam , Walter makes the acquaintance of megalomaniac Mongol warlord Bayan . The \"Black Rose\" of the title is the beauteous Maryam , with whom Walter fell in love while both were prisoners of Bayan. Journeying farther east, Walter and Tristam arrive in China, where they are treated with deference - so long as they never try to leave. Eventually escaping his Chinese hosts, but leaving the Black Rose behind, Walter returns to his native country. Previously denounced by King Edward  because of his role in the a Saxon rebellion, Walter is welcomed back with open arms because of all the cultural and scientific wonders  he has brought back from China. Bayan sends the Black Rose to England to join Walter there.\n",
            "id =  5089524 Orphaned and abused at a very young age, a young boy faces the harsh side of life as he struggles to make a living by slaving day and night working in the house of a wealthy man named Ramnath. Ramnath does not like him: it is later revealed that another orphan had taken advantage of his kindness in the past, hence his animosity. Ramnath's daughter Kaamna, however, empathizes with the boy and they form a friendship. Eventually he is adopted by a Muslim woman who also works for Ramnath, Fatima, who decides to name him Sikandar. On the occasion of Kaamna's birthday Sikandar, who had promised to replace one of her dolls which he'd broken, steals an expensive doll from a shop to give as a gift. However, Ramnath refuses to let the boy attend the party, and when Sikandar breaks into Kaamna's room to deliver the doll he is caught and accused of trying to rob the house. He and his mother are banished from Ramnath's home. Shortly thereafter, Fatima dies, leaving young Sikandar with the responsibility of looking after her daughter, Mehroo. As Sikandar is crying in the graveyard, a fakir comes to him and asks him to embrace the woes of life and find happiness in sadness, for then he would become the conqueror of fate. The sequence cuts to a grown up Sikandar  zooming on his motorbike singing his favourite tune. It is then revealed that Sikandar has amassed a fortune by turning in smuggled goods to the police and receiving the reward payouts. With all his wealth he has managed to build an impressive house for himself along with setting up a profitable business. Sikandar still has not forgotten Kaamna  from his childhood. She and her father have fallen on hard times, and Sikandar is anonymously supporting them. Eventually he gets up the nerve to try to talk to Kaamna, but she still believes that he betrayed her family, and she snubs him. Sikandar is upset by the refusal and becomes a heavy drinker. He also visits Zohra Begam's  kotha on a regular basis. One night in the bar Sikandar meets up with Advocate Vishal  and a friendship is formed between them when Vishal risks his own life to save Sikandar from a bomb blast. Sikandar introduces Vishal to Ramnath and the two begin to work together. Zora Begam eventually falls in love with Sikandar, and this in turn angers Dilawar  a hard core criminal who loves Zohra and will kill any one who lays an eye on her. Upon finding that Sikandar is frequently visiting Zohra, Dilawar confronts Sikandar and in the ensuing fight is thrashed by him. He swears to kill Sikandar. Kaamna discovers Sikandar's kindness to her family and goes to thank him. Encouraged, Sikandar tries to profess his love to Kaamna through a love letter. Because Sikandar himself is illiterate, Vishal transcribes the letter for him, but the plan backfires when Kaamna mistakes the letter as actually being from Vishal. Vishal, unaware that Kaamna is the girl Sikandar loves, reciprocates her love, and the two begin to date. Sikandar, upon learning this, struggles with his emotions but decides he must sacrifice his love for the sake of his friendship with Vishal. Vishal and Kaamna plan to marry. Sikandar's visits to Zohra Begum have hampered his reputation, and his sister Mehroo's upcoming marriage is at risk of being cancelled because of this habit. Vishal then visits Zohra and offers to pay her for the rest of his life if she will leave Sikandar alone. Zohra, upon learning the reason, promises Vishal that she would sooner die than let Sikandar visit her again. Later, Sikandar arrives at Zohra's and she refuses to let him in. Sikandar demands entry, and when Zohra is unable to stop him she kills herself by swallowing a diamond, and dies in his arms. Dilawar in the meanwhile has formed an alliance with Sikandar's arch enemy, JD, and upon learning of Zohra's death hatches a plan to destroy Sikandar and his family. Kaamna and Mehroo are both preparing for their weddings; JD and his henchmen kidnap Sikandar's sister Mehroo but Vishal follows them and rescues her. Dilawar kidnaps Kaamna, but Sikandar follows him. He rescues Kaamna and sends her home while he battles Dilawar. In the final battle both Dilawar and Sikandar are mortally wounded, and Sikandar tells Dilawar that he never loved Zohra. A dying Sikandar reaches the wedding of Kaamna and Vishal. Just as the wedding ceremony is completed, Sikandar collapses. His dying words inadvertently reveal his love for Kaamna, and Vishal sings him his favourite song, \"Life is going to betray you someday...Death is your true love as it'll take you along...\" Sikandar's entire life flashes before him and he dies in Vishal's arms just as the song is completed.\n",
            "id =  936651 Sir Denis Nayland Smith  of the British Secret Service warns Egyptologist Sir Lionel Barton  that he must beat Fu Manchu in the race to find the tomb of Genghis Khan. The power-mad Fu Manchu  intends to use the sword and mask to proclaim himself the reincarnation of the legendary conqueror and inflame the peoples of Asia and the Middle East into a war to wipe out the \"white race\". Sir Lionel is kidnapped soon afterward and taken to Fu Manchu. Fu Manchu tries bribing his captive, even offering his own daughter, Fah Lo See . When that fails, Barton suffers the \"torture of the bell\"  in an unsuccessful attempt to get him to reveal the location of the tomb. Barton's daughter Sheila  insists on taking her father's place on the expedition, as she knows where the tomb is. She finds the tomb and its treasures with the help of her fiance Terrence \"Terry\" Granville , Von Berg , and McLeod . Nayland Smith joins them soon afterward. McLeod is killed by Fu Manchu's men during a robbery attempt. When that fails, an emissary offers to trade Barton for the priceless artifacts. Despite Terry's misgivings, Sheila persuades him to take the relics to Fu Manchu without Smith's knowledge. However, when Fu Manchu tests the sword, he determines that it is a fake . Terry is whipped under the supervision of Fah Lo See, who is attracted to him. Meanwhile, Fu Manchu has Barton's corpse delivered to Sheila. When Nayland tries to rescue Terry, he is taken captive as well. Terry is injected with a serum that makes him temporarily obedient to Fu Manchu and he is released. He tells Sheila and Von Berg that Nayland Smith wants them to bring the sword and mask to him. Sheila senses something is wrong, but Von Berg digs up the real relics, and they follow Terry into a trap. Captured by Fu Manchu, the party is sentenced to death or enslavement, but not before Sheila manages to bring Terry back to his senses. Sheila is to become a human sacrifice, Nayland Smith is to be lowered into a crocodile pit, and Von Berg placed between two sets of metal spikes inching toward each other. Terry is prepared for another dose of the serum, which will make him a permanent slave of the whims of Fu Manchu's daughter. However, Nayland Smith manages to free himself, Terry, and Von Berg. Using one of Fu Manchu's own weapons—a death ray that shoots an electric current—the men incapacitate the arch-villain as he raises the sword to execute Sheila. When Fu Manchu drops the sword, Terry picks it up and hacks him to death. While Terry frees Sheila and carries her away, Nayland Smith and Von Berg incinerate Fu Manchu's followers using the same weapon. Safely aboard a ship bound for England, Nayland Smith tosses the sword over the side so that the world will be safe from any future Fu Manchu.\n",
            "id =  1353277 In 63 BC, Pompey conquers Jerusalem and the city is sacked. The conqueror goes to the Temple to seize the treasure of Solomon and massacres the priests there. He discovers that the treasure is nothing but a collection of scrolls of the Torah. These he holds over a fire until an old priest reaches for them imploringly. Pompey relents and hands them to the old man. Many years later, a series of rebellions break out against the authority of Rome, so the Romans crucify many of the leaders and place Herod the Great on the throne of Judea. At the end of the century, a carpenter named Joseph and his wife Mary, who is about to give birth, arrive in Bethlehem for the census. Not having found accommodation for the night, they take refuge in a stable, where the child, Jesus, is born. The shepherds, who have followed the Magi from the East, gather to worship him. However, Herod, informed of the birth of a child-king, orders the centurion Lucius and his men to go to Bethlehem and kill all the newborn children. Mary and Joseph flee to Egypt with the child. Herod dies, killed by his son Herod Antipas, who then takes power. In Nazareth, Jesus, who is now twelve years old, is working with Joseph when soldiers arrive under the command of Lucius, who realizes that Jesus escaped the massacre of the infants. But he does nothing and only asks that Mary and Joseph register their son's birth. Years pass and Jewish rebels led by Barabbas and Judas Iscariot prepare to attack a caravan carrying the next governor of Judea, Pontius Pilate and his wife Claudia. The ambush fails and Barabbas and Judas flee for their lives. Pilate and Herod Antipas meet on the banks of the River Jordan, where John the Baptist preaches to the crowds. Jesus arrives here, now 30 years of age. He is baptized by John, who recognizes that Jesus is the Messiah. Jesus goes into the desert, where the temptations by Satan occur. After forty days, Jesus travels to Galilee, where he recruits his Apostles. In Jerusalem, Herod arrests John the Baptist, who is visited by Jesus in prison. Judas leaves the rebel Barabbas and joins the Apostles. Jesus begins to preach and gather crowds, among which are Claudia, Pilate's wife, and Lucius. Herod beheads John on a whim of his stepdaughter, Salome. Herod, Pilate and the High Priest Caiaphas are terrorized by the works and miracles of Jesus. Barabbas plots a revolt in Jerusalem, during which time Jesus enters triumphantly into the holy city and goes to the Temple to preach. The rebels storm the Antonia Fortress, but the legions of Pilate become involved and crush the revolt, causing hundreds of casualties. Barabbas is arrested. Jesus meets the disciples on the evening of Thursday, having supper one last time with them and after goes to pray at Gethsemane. In the meantime, Judas wants Jesus to free Judea from the Romans and to force his hand delivers him to the Jewish authorities. Jesus is brought before Caiaphas and then to Pilate. Pilate starts the trial, then sends him to Herod Antipas, who, in turn, sends him back. Pilate is infuriated by Antipas's returning of Jesus and commands his soldiers to scourge him. The people demand the release of Barabbas and Pilate bows to their pressure and sentences Jesus to be crucified. Jesus, wearing a crown of thorns on his head, carries his cross to Golgotha where he is crucified with two thieves, one of them the Penitent thief Dismas. Desperate because he has betrayed Jesus to his death, Judas hangs himself and his body is found by Barabbas. Jesus dies in front of his mother, the apostle John, a few soldiers, and Claudia  and Lucius . His body is taken down from the cross and is carried to a rock tomb. Two days later, Mary Magdalene finds the tomb empty, and encounters the Risen Jesus. The film ends on the shores of Lake Tiberias when Jesus appears to the Apostles and tells them to bring his message to the ends of the world. Only his shadow is visible, forming the shape of a cross where it falls on the stretched-out fishing nets, as the screen fades to black.\n",
            "id =  1291587 {{Plot|dateAlternate ending Becky Sharp arrives at her brother-in-law's house . As Becky nears the house a servant questions her and tells her that the funeral of Sir Pitt Crawley is being held there. While talking to the servant, Becky spots a young man and asks the servant who it is. He replies: the new baronet, Sir Rawdon Crawley , Becky's son. Sir Rawdon notices her and asks if there is any way he may help. Thinking that he doesn't know who she is, Becky replies that she isn't sure he would want to help her if he knew who she was. Rawdon reveals that he knows who she is, and when Becky tries to reach out for her son, he steps back. Becky then tries to convince him that she still loves him, even though she abandoned him. Lady Jane appears, in mourning, and Rawdon exclaims that \"she is here to claim me as her own.\" Lady Jane replies that he is. Rawdon says that it is too late for her to play the mother now, before he turns and leaves. Lady Jane explains to Becky what has happened and leads her to her late husband's grave, where she makes a speech about \"love is vanity's conqueror.\" During the speech, Becky's son stands behind her and takes her hand in his. The scene ends with Becky repeating Lady Jane's words.\n",
            "id =  29380609 Lloyd the Conqueror is Lloyd, a lazy college student with big dreams for the future. Lloyd and his two best friends Patrick and Oswald desperately need to pass their Medieval Literature class in order to keep their financial aid. Our heroes are so desperate that they beg their teacher for extra credit work. Their professor, Derek, concedes but only on one condition: They must join his deteriorating LARPing league and battle against him in a game of Demons & Dwarves. Lloyd decides to enlist the help of Cassandra, ex-cage fighter and “Self Defense for Women” instructor in the battle against Derek, the long reigning champion who has been twisted to the dark side by his years of intense academic study. On their quest to victory the three students must match wits with a pack of crazed Danes whose bloodlust can only be sated by posting their LARPing victories online, the muscle bound Leopold who comes out of the Sanitarium to beat Lloyd and friends at the game he takes a little too seriously, and the stuck up Science Fiction Larper who would sooner break the prime directive than cut our heroes some slack. The journey forces Lloyd and the boys to do some actual work for once including throwing ‘magic’ tinfoil balls, deciding which household items are most effective in slaying trolls, and questioning society’s hero worship of George Washington Carver.\n",
            "id =  24881386 The Fall of a Nation is an attack on the pacifism of William Jennings Bryan and Henry Ford<ref nameRothstein |firsthttp://movies.nytimes.com/movie/90923/Fall-of-a-Nation/overview |titleMovies.nytimes.com |date2009-10-30}} and a plea for American preparedness for war.{{cite news}} America is unprepared for an attack by the \"European Confederated Army\", a European army headed by Germany. However, America is saved by a pro-war Congressman who raises an army to defeat the invaders with the support of a suffragette. According to IMDb the film is split into three sections: \"A nation falls\", \"The heel of the conqueror\" and \"The uprising two years later\".\n",
            "id =  924115 The film is about a Turkmenian who defends his homeland from invasion. He is captured, tortured, and brainwashed into serving his homeland's conquerors. He is so completely turned that he kills his mother when she attempts to rescue him from captivity.\n"
          ]
        }
      ],
      "source": [
        "''' \n",
        "    use ^ for and, | for or, ! for not and paranthesis for better result.\n",
        "    e.g. (first ^ black ^ jigsaw) | (conquerors ^ !buddha)\n",
        "'''\n",
        "find()"
      ]
    }
  ],
  "metadata": {
    "colab": {
      "provenance": []
    },
    "gpuClass": "standard",
    "kernelspec": {
      "display_name": "Python 3",
      "name": "python3"
    },
    "language_info": {
      "codemirror_mode": {
        "name": "ipython",
        "version": 3
      },
      "file_extension": ".py",
      "mimetype": "text/x-python",
      "name": "python",
      "nbconvert_exporter": "python",
      "pygments_lexer": "ipython3",
      "version": "3.11.2"
    }
  },
  "nbformat": 4,
  "nbformat_minor": 0
}
