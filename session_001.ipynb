{
  "cells": [
    {
      "cell_type": "markdown",
      "metadata": {
        "colab_type": "text",
        "id": "view-in-github"
      },
      "source": [
        "<a href=\"https://colab.research.google.com/github/IR-1401-2-project/ClassProjects/blob/main/session_001.ipynb\" target=\"_parent\"><img src=\"https://colab.research.google.com/assets/colab-badge.svg\" alt=\"Open In Colab\"/></a>"
      ]
    },
    {
      "cell_type": "markdown",
      "metadata": {
        "id": "C5t2dVg72dcE"
      },
      "source": [
        "# Information Retrieval\n"
      ]
    },
    {
      "cell_type": "markdown",
      "metadata": {
        "id": "g66DrEBc2dUM"
      },
      "source": [
        "\n",
        "Assignment 1\n",
        "\n",
        "Team members:\n",
        "\n",
        "1: Tooraj *Taraz*\n",
        "\n",
        "2: MohammadReza Tashakkori\n",
        "\n",
        "3: Iman Jalali\n",
        "\n",
        "4: Seyed MohammadTaha Tabatabayi\n"
      ]
    },
    {
      "cell_type": "code",
      "execution_count": 6,
      "metadata": {
        "colab": {
          "base_uri": "https://localhost:8080/"
        },
        "id": "4-w3fOjZ28sR",
        "outputId": "f42e33ac-370b-44d4-8ef1-5f442fd7e5d5"
      },
      "outputs": [
        {
          "name": "stdout",
          "output_type": "stream",
          "text": [
            "Collecting package metadata (current_repodata.json): done\n",
            "Solving environment: \\ ^C\n",
            "failed with initial frozen solve. Retrying with flexible solve.\n",
            "\n",
            "CondaError: KeyboardInterrupt\n",
            "\n"
          ]
        }
      ],
      "source": [
        "!conda install -c conda-forge hazm"
      ]
    },
    {
      "cell_type": "code",
      "execution_count": 9,
      "metadata": {
        "id": "RnPauelP3D3p"
      },
      "outputs": [],
      "source": [
        "import hazm\n",
        "import nltk\n",
        "import pandas"
      ]
    },
    {
      "cell_type": "code",
      "execution_count": 10,
      "metadata": {
        "colab": {
          "base_uri": "https://localhost:8080/"
        },
        "id": "FX-lW5nb3GV2",
        "outputId": "66002af4-8f36-4a77-c4bd-22dbf0444019"
      },
      "outputs": [
        {
          "name": "stdout",
          "output_type": "stream",
          "text": [
            "--2023-02-27 13:18:28--  https://github.com/mohamad-dehghani/persian-pdf-books-dataset/raw/master/final_books.xlsx\n",
            "Resolving github.com (github.com)... 140.82.121.3\n",
            "Connecting to github.com (github.com)|140.82.121.3|:443... connected.\n",
            "HTTP request sent, awaiting response... 302 Found\n",
            "Location: https://raw.githubusercontent.com/mohamad-dehghani/persian-pdf-books-dataset/master/final_books.xlsx [following]\n",
            "--2023-02-27 13:18:28--  https://raw.githubusercontent.com/mohamad-dehghani/persian-pdf-books-dataset/master/final_books.xlsx\n",
            "Resolving raw.githubusercontent.com (raw.githubusercontent.com)... 50.7.87.83\n",
            "Connecting to raw.githubusercontent.com (raw.githubusercontent.com)|50.7.87.83|:443... connected.\n",
            "HTTP request sent, awaiting response... 200 OK\n",
            "Length: 1380625 (1.3M) [application/octet-stream]\n",
            "Saving to: ‘final_books.xlsx’\n",
            "\n",
            "final_books.xlsx    100%[===================>]   1.32M   245KB/s    in 4.7s    \n",
            "\n",
            "2023-02-27 13:18:34 (287 KB/s) - ‘final_books.xlsx’ saved [1380625/1380625]\n",
            "\n"
          ]
        }
      ],
      "source": [
        "!wget https://github.com/mohamad-dehghani/persian-pdf-books-dataset/raw/master/final_books.xlsx"
      ]
    },
    {
      "cell_type": "code",
      "execution_count": 13,
      "metadata": {
        "colab": {
          "base_uri": "https://localhost:8080/"
        },
        "id": "t2S15Ppm3JO7",
        "outputId": "fd5013aa-b1a1-470c-83d1-d0e81d808dca"
      },
      "outputs": [
        {
          "name": "stdout",
          "output_type": "stream",
          "text": [
            "<class 'pandas.core.frame.DataFrame'>\n",
            "RangeIndex: 2824 entries, 0 to 2823\n",
            "Data columns (total 6 columns):\n",
            " #   Column    Non-Null Count  Dtype \n",
            "---  ------    --------------  ----- \n",
            " 0   title     2824 non-null   object\n",
            " 1   date      2824 non-null   object\n",
            " 2   content   2441 non-null   object\n",
            " 3   category  2824 non-null   object\n",
            " 4   author    2824 non-null   object\n",
            " 5   comments  2824 non-null   object\n",
            "dtypes: object(6)\n",
            "memory usage: 132.5+ KB\n"
          ]
        }
      ],
      "source": [
        "df_persian = pandas.read_excel('/home/toorajtaraz/Documents/projects/ClassProjects/final_books.xlsx')\n",
        "df_persian.info()"
      ]
    },
    {
      "cell_type": "code",
      "execution_count": 14,
      "metadata": {
        "colab": {
          "base_uri": "https://localhost:8080/",
          "height": 206
        },
        "id": "cRnqU6cD3M_Q",
        "outputId": "948bcbb4-698d-478b-d2aa-be0122ed110d"
      },
      "outputs": [
        {
          "data": {
            "text/html": [
              "<div>\n",
              "<style scoped>\n",
              "    .dataframe tbody tr th:only-of-type {\n",
              "        vertical-align: middle;\n",
              "    }\n",
              "\n",
              "    .dataframe tbody tr th {\n",
              "        vertical-align: top;\n",
              "    }\n",
              "\n",
              "    .dataframe thead th {\n",
              "        text-align: right;\n",
              "    }\n",
              "</style>\n",
              "<table border=\"1\" class=\"dataframe\">\n",
              "  <thead>\n",
              "    <tr style=\"text-align: right;\">\n",
              "      <th></th>\n",
              "      <th>title</th>\n",
              "      <th>date</th>\n",
              "      <th>content</th>\n",
              "      <th>category</th>\n",
              "      <th>author</th>\n",
              "      <th>comments</th>\n",
              "    </tr>\n",
              "  </thead>\n",
              "  <tbody>\n",
              "    <tr>\n",
              "      <th>0</th>\n",
              "      <td>بهترین درسهای زندگی‎</td>\n",
              "      <td>۲ دی ۱۳۹۸</td>\n",
              "      <td>تی دی جیکس یک کشیش، نویسنده، سخنران آمریکایی ...</td>\n",
              "      <td>روانشناسی</td>\n",
              "      <td>سارا رزولت</td>\n",
              "      <td>بدون دیدگاه</td>\n",
              "    </tr>\n",
              "    <tr>\n",
              "      <th>1</th>\n",
              "      <td>از سلاجقه تا صفویه</td>\n",
              "      <td>۱ دی ۱۳۹۸</td>\n",
              "      <td>کتاب حاضر که اینک در دسترس خوانندگان محترم قر...</td>\n",
              "      <td>تاریخ ایران</td>\n",
              "      <td>نصرت الله مشکوتی</td>\n",
              "      <td>بدون دیدگاه</td>\n",
              "    </tr>\n",
              "    <tr>\n",
              "      <th>2</th>\n",
              "      <td>سرگذشت رضاشاه</td>\n",
              "      <td>۲۹ آذر ۱۳۹۸</td>\n",
              "      <td>دکتر فتح الله بینا تحصیلات خود را در رشته پزش...</td>\n",
              "      <td>تاریخ ایران</td>\n",
              "      <td>فتح الله بینا</td>\n",
              "      <td>بدون دیدگاه</td>\n",
              "    </tr>\n",
              "    <tr>\n",
              "      <th>3</th>\n",
              "      <td>سیری نوین در فرگشت و اسرار مغز</td>\n",
              "      <td>۲۸ آذر ۱۳۹۸</td>\n",
              "      <td>مجموعه پیش رو مطالبیست که در گروه Evolution ت...</td>\n",
              "      <td>علم و دانش</td>\n",
              "      <td>مانی منوچهری</td>\n",
              "      <td>بدون دیدگاه</td>\n",
              "    </tr>\n",
              "    <tr>\n",
              "      <th>4</th>\n",
              "      <td>آسمان پرستاره</td>\n",
              "      <td>۲۶ آذر ۱۳۹۸</td>\n",
              "      <td>کتاب آسمان پرستاره نوشته‌ی کتی هایدن، به زبان...</td>\n",
              "      <td>کودکان و نوجوانان</td>\n",
              "      <td>کتی هایدن</td>\n",
              "      <td>بدون دیدگاه</td>\n",
              "    </tr>\n",
              "  </tbody>\n",
              "</table>\n",
              "</div>"
            ],
            "text/plain": [
              "                             title           date  \\\n",
              "0             بهترین درسهای زندگی‎     ۲ دی ۱۳۹۸    \n",
              "1               از سلاجقه تا صفویه     ۱ دی ۱۳۹۸    \n",
              "2                    سرگذشت رضاشاه   ۲۹ آذر ۱۳۹۸    \n",
              "3   سیری نوین در فرگشت و اسرار مغز   ۲۸ آذر ۱۳۹۸    \n",
              "4                    آسمان پرستاره   ۲۶ آذر ۱۳۹۸    \n",
              "\n",
              "                                             content           category  \\\n",
              "0   تی دی جیکس یک کشیش، نویسنده، سخنران آمریکایی ...          روانشناسی   \n",
              "1   کتاب حاضر که اینک در دسترس خوانندگان محترم قر...        تاریخ ایران   \n",
              "2   دکتر فتح الله بینا تحصیلات خود را در رشته پزش...        تاریخ ایران   \n",
              "3   مجموعه پیش رو مطالبیست که در گروه Evolution ت...         علم و دانش   \n",
              "4   کتاب آسمان پرستاره نوشته‌ی کتی هایدن، به زبان...  کودکان و نوجوانان   \n",
              "\n",
              "                         author     comments  \n",
              "0                  سارا رزولت    بدون دیدگاه  \n",
              "1            نصرت الله مشکوتی    بدون دیدگاه  \n",
              "2               فتح الله بینا    بدون دیدگاه  \n",
              "3                مانی منوچهری    بدون دیدگاه  \n",
              "4                   کتی هایدن    بدون دیدگاه  "
            ]
          },
          "execution_count": 14,
          "metadata": {},
          "output_type": "execute_result"
        }
      ],
      "source": [
        "df_persian.head()"
      ]
    },
    {
      "cell_type": "code",
      "execution_count": 17,
      "metadata": {
        "colab": {
          "base_uri": "https://localhost:8080/"
        },
        "id": "F1sjtuPe3SfK",
        "outputId": "93c60653-2f10-4d43-fd9e-521ad0788b11"
      },
      "outputs": [
        {
          "name": "stdout",
          "output_type": "stream",
          "text": [
            "--2023-02-27 13:20:21--  http://www.cs.cmu.edu/~ark/personas/data/MovieSummaries.tar.gz\n",
            "Resolving www.cs.cmu.edu (www.cs.cmu.edu)... 224.0.0.1\n",
            "Connecting to www.cs.cmu.edu (www.cs.cmu.edu)|224.0.0.1|:80... connected.\n",
            "HTTP request sent, awaiting response... 200 OK\n",
            "Length: 48002242 (46M) [application/x-gzip]\n",
            "Saving to: ‘MovieSummaries.tar.gz.1’\n",
            "\n",
            "MovieSummaries.tar. 100%[===================>]  45.78M   968KB/s    in 52s     \n",
            "\n",
            "2023-02-27 13:21:14 (904 KB/s) - ‘MovieSummaries.tar.gz.1’ saved [48002242/48002242]\n",
            "\n",
            "\n",
            "gzip: stdin: unexpected end of file\n",
            "tar: Unexpected EOF in archive\n",
            "tar: Unexpected EOF in archive\n",
            "tar: Error is not recoverable: exiting now\n"
          ]
        }
      ],
      "source": [
        "\n",
        "\n",
        "!proxychains4 -q wget http://www.cs.cmu.edu/~ark/personas/data/MovieSummaries.tar.gz\n",
        "!tar -xf MovieSummaries.tar.gz\n",
        "     \n"
      ]
    },
    {
      "cell_type": "code",
      "execution_count": 18,
      "metadata": {
        "colab": {
          "base_uri": "https://localhost:8080/"
        },
        "id": "y7HeBWjT3YlP",
        "outputId": "375c28a2-4dea-4175-cf2d-2383f9b1f703"
      },
      "outputs": [
        {
          "name": "stdout",
          "output_type": "stream",
          "text": [
            "<class 'pandas.core.frame.DataFrame'>\n",
            "RangeIndex: 2541 entries, 0 to 2540\n",
            "Data columns (total 2 columns):\n",
            " #   Column  Non-Null Count  Dtype \n",
            "---  ------  --------------  ----- \n",
            " 0   id      2541 non-null   int64 \n",
            " 1   text    2541 non-null   object\n",
            "dtypes: int64(1), object(1)\n",
            "memory usage: 39.8+ KB\n"
          ]
        }
      ],
      "source": [
        "df_english = pandas.read_csv(\"./MovieSummaries/plot_summaries.txt\", delimiter = \"\\t\",names=[\"id\",\"text\"])\n",
        "df_english.info()"
      ]
    },
    {
      "cell_type": "code",
      "execution_count": 19,
      "metadata": {
        "colab": {
          "base_uri": "https://localhost:8080/",
          "height": 206
        },
        "id": "S5zF2Nul3bqM",
        "outputId": "55d464da-250c-4cd3-9864-41f48350654e"
      },
      "outputs": [
        {
          "data": {
            "text/html": [
              "<div>\n",
              "<style scoped>\n",
              "    .dataframe tbody tr th:only-of-type {\n",
              "        vertical-align: middle;\n",
              "    }\n",
              "\n",
              "    .dataframe tbody tr th {\n",
              "        vertical-align: top;\n",
              "    }\n",
              "\n",
              "    .dataframe thead th {\n",
              "        text-align: right;\n",
              "    }\n",
              "</style>\n",
              "<table border=\"1\" class=\"dataframe\">\n",
              "  <thead>\n",
              "    <tr style=\"text-align: right;\">\n",
              "      <th></th>\n",
              "      <th>id</th>\n",
              "      <th>text</th>\n",
              "    </tr>\n",
              "  </thead>\n",
              "  <tbody>\n",
              "    <tr>\n",
              "      <th>0</th>\n",
              "      <td>23890098</td>\n",
              "      <td>Shlykov, a hard-working taxi driver and Lyosha...</td>\n",
              "    </tr>\n",
              "    <tr>\n",
              "      <th>1</th>\n",
              "      <td>31186339</td>\n",
              "      <td>The nation of Panem consists of a wealthy Capi...</td>\n",
              "    </tr>\n",
              "    <tr>\n",
              "      <th>2</th>\n",
              "      <td>20663735</td>\n",
              "      <td>Poovalli Induchoodan  is sentenced for six yea...</td>\n",
              "    </tr>\n",
              "    <tr>\n",
              "      <th>3</th>\n",
              "      <td>2231378</td>\n",
              "      <td>The Lemon Drop Kid , a New York City swindler,...</td>\n",
              "    </tr>\n",
              "    <tr>\n",
              "      <th>4</th>\n",
              "      <td>595909</td>\n",
              "      <td>Seventh-day Adventist Church pastor Michael Ch...</td>\n",
              "    </tr>\n",
              "  </tbody>\n",
              "</table>\n",
              "</div>"
            ],
            "text/plain": [
              "         id                                               text\n",
              "0  23890098  Shlykov, a hard-working taxi driver and Lyosha...\n",
              "1  31186339  The nation of Panem consists of a wealthy Capi...\n",
              "2  20663735  Poovalli Induchoodan  is sentenced for six yea...\n",
              "3   2231378  The Lemon Drop Kid , a New York City swindler,...\n",
              "4    595909  Seventh-day Adventist Church pastor Michael Ch..."
            ]
          },
          "execution_count": 19,
          "metadata": {},
          "output_type": "execute_result"
        }
      ],
      "source": [
        "df_english.head()"
      ]
    },
    {
      "cell_type": "code",
      "execution_count": 20,
      "metadata": {
        "id": "Kdn7o6j64WRl"
      },
      "outputs": [],
      "source": [
        "from __future__ import unicode_literals\n",
        "from hazm import Normalizer"
      ]
    },
    {
      "cell_type": "code",
      "execution_count": 21,
      "metadata": {
        "id": "9hQ81hNK41Qx"
      },
      "outputs": [],
      "source": [
        "normalizer = Normalizer()"
      ]
    },
    {
      "cell_type": "code",
      "execution_count": 22,
      "metadata": {
        "id": "QBH0_02M4_1S"
      },
      "outputs": [],
      "source": [
        "import numpy as np"
      ]
    },
    {
      "cell_type": "code",
      "execution_count": 27,
      "metadata": {
        "colab": {
          "base_uri": "https://localhost:8080/"
        },
        "id": "eVqkBju05ChD",
        "outputId": "4512c007-560f-468f-ccbc-1e836cbef801"
      },
      "outputs": [
        {
          "data": {
            "text/plain": [
              "(0,\n",
              " ' تی دی جیکس یک کشیش نویسنده سخنران آمریکایی است سمینار\\u200cهای تی دی جیکس اغلب انگیزشی و مذهبی است به همین دلیل او در ایران به سخنران انگیزشی سیاه پوست لقب گرفته است در زندگینامه تی دی جیکس شاهد فعالیت\\u200cهای مختلفی هستیم که هر کدام از آنها خواهان تجربه و تلاش زیادی هستند مواردی که اعلام شد تنها بخشی از فعالیت\\u200cهای جیکس است او هم اکنون کشیش خانه پاتر است و مخاطبان بسیاری دارد موعظه\\u200cهای و سخنرانی\\u200cها تی دی جیکس در کلیسا از شبکه\\u200cهای تلویزیونی و رادیویی مختلف پخش می\\u200cشوند این کتاب گزیده\\u200cای از سخنرانی\\u200cهای آقای جیکز یکی از بهترین سخنران\\u200cهای انگیزشی در دنیا است امید است با مطالعه دقیق و باور عمیق تغییری مثبت در زندگیتان ایجاد شود')"
            ]
          },
          "execution_count": 27,
          "metadata": {},
          "output_type": "execute_result"
        }
      ],
      "source": [
        "normalized_persian_tokens = []\n",
        "all_punct = '''،!()-[]{};:'\"\\,<>./؟?@#$%^&*_~'''\n",
        "for index, row in df_persian.iterrows():\n",
        "  content = row[\"content\"]\n",
        "  try:\n",
        "    if len(content) < 1:\n",
        "      continue\n",
        "  except:\n",
        "    continue\n",
        "  for p in all_punct:\n",
        "    content = content.replace(p, '')\n",
        "  normalized_content = normalizer.normalize(content)\n",
        "  normalized_persian_tokens.append((index, normalized_content))\n",
        "\n",
        "\n",
        "\n",
        "normalized_persian_tokens[0]"
      ]
    },
    {
      "cell_type": "code",
      "execution_count": 24,
      "metadata": {
        "id": "6REzUGmQ8E18"
      },
      "outputs": [],
      "source": [
        "from hazm import sent_tokenize, word_tokenize"
      ]
    },
    {
      "cell_type": "code",
      "execution_count": 26,
      "metadata": {
        "colab": {
          "base_uri": "https://localhost:8080/",
          "height": 206
        },
        "id": "zb5I83QL7wSm",
        "outputId": "f0174876-2ec1-4bc2-e68c-51a5e37f2271"
      },
      "outputs": [
        {
          "data": {
            "text/html": [
              "<div>\n",
              "<style scoped>\n",
              "    .dataframe tbody tr th:only-of-type {\n",
              "        vertical-align: middle;\n",
              "    }\n",
              "\n",
              "    .dataframe tbody tr th {\n",
              "        vertical-align: top;\n",
              "    }\n",
              "\n",
              "    .dataframe thead th {\n",
              "        text-align: right;\n",
              "    }\n",
              "</style>\n",
              "<table border=\"1\" class=\"dataframe\">\n",
              "  <thead>\n",
              "    <tr style=\"text-align: right;\">\n",
              "      <th></th>\n",
              "      <th>index in original persian df</th>\n",
              "      <th>sent_token</th>\n",
              "      <th>word_token</th>\n",
              "    </tr>\n",
              "  </thead>\n",
              "  <tbody>\n",
              "    <tr>\n",
              "      <th>0</th>\n",
              "      <td>0</td>\n",
              "      <td>[تی دی جیکس یک کشیش نویسنده سخنران آمریکایی اس...</td>\n",
              "      <td>[تی, دی, جیکس, یک, کشیش, نویسنده, سخنران, آمری...</td>\n",
              "    </tr>\n",
              "    <tr>\n",
              "      <th>1</th>\n",
              "      <td>1</td>\n",
              "      <td>[کتاب حاضر که اینک در دسترس خوانندگان محترم قر...</td>\n",
              "      <td>[کتاب, حاضر, که, اینک, در, دسترس, خوانندگان, م...</td>\n",
              "    </tr>\n",
              "    <tr>\n",
              "      <th>2</th>\n",
              "      <td>2</td>\n",
              "      <td>[دکتر فتح الله بینا تحصیلات خود را در رشته پزش...</td>\n",
              "      <td>[دکتر, فتح, الله, بینا, تحصیلات, خود, را, در, ...</td>\n",
              "    </tr>\n",
              "    <tr>\n",
              "      <th>3</th>\n",
              "      <td>3</td>\n",
              "      <td>[مجموعه پیش رو مطالبیست که در گروه Evolution ت...</td>\n",
              "      <td>[مجموعه, پیش, رو, مطالبیست, که, در, گروه, Evol...</td>\n",
              "    </tr>\n",
              "    <tr>\n",
              "      <th>4</th>\n",
              "      <td>4</td>\n",
              "      <td>[کتاب آسمان پرستاره نوشته‌ی کتی هایدن به زبانی...</td>\n",
              "      <td>[کتاب, آسمان, پرستاره, نوشته‌ی, کتی, هایدن, به...</td>\n",
              "    </tr>\n",
              "  </tbody>\n",
              "</table>\n",
              "</div>"
            ],
            "text/plain": [
              "   index in original persian df  \\\n",
              "0                             0   \n",
              "1                             1   \n",
              "2                             2   \n",
              "3                             3   \n",
              "4                             4   \n",
              "\n",
              "                                          sent_token  \\\n",
              "0  [تی دی جیکس یک کشیش نویسنده سخنران آمریکایی اس...   \n",
              "1  [کتاب حاضر که اینک در دسترس خوانندگان محترم قر...   \n",
              "2  [دکتر فتح الله بینا تحصیلات خود را در رشته پزش...   \n",
              "3  [مجموعه پیش رو مطالبیست که در گروه Evolution ت...   \n",
              "4  [کتاب آسمان پرستاره نوشته‌ی کتی هایدن به زبانی...   \n",
              "\n",
              "                                          word_token  \n",
              "0  [تی, دی, جیکس, یک, کشیش, نویسنده, سخنران, آمری...  \n",
              "1  [کتاب, حاضر, که, اینک, در, دسترس, خوانندگان, م...  \n",
              "2  [دکتر, فتح, الله, بینا, تحصیلات, خود, را, در, ...  \n",
              "3  [مجموعه, پیش, رو, مطالبیست, که, در, گروه, Evol...  \n",
              "4  [کتاب, آسمان, پرستاره, نوشته‌ی, کتی, هایدن, به...  "
            ]
          },
          "execution_count": 26,
          "metadata": {},
          "output_type": "execute_result"
        }
      ],
      "source": [
        "tokenized_normal_sent_persian = []\n",
        "for index, normalized_sent in normalized_persian_tokens:\n",
        "  sent_tokens = sent_tokenize(normalized_sent)\n",
        "  word_tokens = word_tokenize(normalized_sent)\n",
        "  tokenized_normal_sent_persian.append((index, sent_tokens, word_tokens))\n",
        "\n",
        "persian_final_df = pandas.DataFrame(tokenized_normal_sent_persian, columns =['index in original persian df', 'sent_token', 'word_token'])\n",
        "persian_final_df.head()\n",
        "\n",
        "# persian_final_df.to_csv(\"persian_token.csv\")"
      ]
    },
    {
      "cell_type": "code",
      "execution_count": 28,
      "metadata": {
        "colab": {
          "base_uri": "https://localhost:8080/",
          "height": 467
        },
        "id": "fOGufFhMAPqH",
        "outputId": "faca6533-3672-46b1-88cb-e699fe3f4303"
      },
      "outputs": [],
      "source": [
        "from nltk.tokenize import RegexpTokenizer\n",
        "\n",
        "tokenizer = RegexpTokenizer(r'\\w+')\n",
        "en_tokenized = pandas.DataFrame([tokenizer.tokenize(sentence) for sentence in df_english[\"text\"]])\n",
        "en_tokenized.to_csv(\"English Tokenized.csv\")"
      ]
    },
    {
      "cell_type": "code",
      "execution_count": null,
      "metadata": {
        "id": "f6E2mddLAaIz"
      },
      "outputs": [],
      "source": []
    }
  ],
  "metadata": {
    "colab": {
      "include_colab_link": true,
      "provenance": []
    },
    "kernelspec": {
      "display_name": "IR",
      "language": "python",
      "name": "python3"
    },
    "language_info": {
      "codemirror_mode": {
        "name": "ipython",
        "version": 3
      },
      "file_extension": ".py",
      "mimetype": "text/x-python",
      "name": "python",
      "nbconvert_exporter": "python",
      "pygments_lexer": "ipython3",
      "version": "3.10.9"
    },
    "vscode": {
      "interpreter": {
        "hash": "ff0545a934029cfcde11f1e34cd05a15a8e629ef1f121b86f12e78209b68fbea"
      }
    }
  },
  "nbformat": 4,
  "nbformat_minor": 0
}
